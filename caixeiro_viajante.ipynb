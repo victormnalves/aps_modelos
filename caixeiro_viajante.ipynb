{
 "cells": [
  {
   "cell_type": "code",
   "execution_count": 1,
   "id": "cef9f3ef-de3f-4b74-a144-e432014e69cd",
   "metadata": {},
   "outputs": [],
   "source": [
    "import pandas as pd\n",
    "from ortools.constraint_solver import routing_enums_pb2\n",
    "from ortools.constraint_solver import pywrapcp"
   ]
  },
  {
   "cell_type": "code",
   "execution_count": 2,
   "id": "ba4756b9-4429-4b85-9b20-38996a40a662",
   "metadata": {},
   "outputs": [],
   "source": [
    "mapa = pd.read_excel('mapa.xlsx', sheet_name='custos')\n",
    "mapa = mapa.iloc[0:16, 0:16]\n",
    "mapa = mapa.values.tolist()"
   ]
  },
  {
   "cell_type": "markdown",
   "id": "ac8a2583-8547-45bc-b789-533c8d893a86",
   "metadata": {},
   "source": [
    "---\n",
    "## Criando o modelo"
   ]
  },
  {
   "cell_type": "code",
   "execution_count": 3,
   "id": "3cb45fbf-5575-4094-ada3-ef68f0e24dcc",
   "metadata": {},
   "outputs": [],
   "source": [
    "def create_data_model():\n",
    "    data = {}\n",
    "    data['matriz_distancia'] = mapa\n",
    "    data['veiculos'] = 1 # um PCV possui apenas um veículo\n",
    "    data['destino'] = 0 # saindo e voltando para o nó 0\n",
    "    return data"
   ]
  },
  {
   "cell_type": "markdown",
   "id": "3c3c8513-abcf-45fb-b086-5fd5dbcccce2",
   "metadata": {},
   "source": [
    "--- \n",
    "### Modelo de rotas"
   ]
  },
  {
   "cell_type": "code",
   "execution_count": 4,
   "id": "3375b51f-586e-4a42-917a-cde0c0d309b9",
   "metadata": {},
   "outputs": [],
   "source": [
    "data = create_data_model()\n",
    "manager = pywrapcp.RoutingIndexManager(len(data['matriz_distancia']),\n",
    "                                       data['veiculos'], data['destino']) # convertendo os indices para nós\n",
    "routing = pywrapcp.RoutingModel(manager) "
   ]
  },
  {
   "cell_type": "markdown",
   "id": "89a38afe-0cab-4e29-a4fd-37ee5b5f87f2",
   "metadata": {},
   "source": [
    "---\n",
    "## Callback de distância\n",
    "Formaliza as distâncias entre os nós"
   ]
  },
  {
   "cell_type": "code",
   "execution_count": 5,
   "id": "9b62dcbd-d1db-4a8d-80a1-5c8b90292d03",
   "metadata": {},
   "outputs": [],
   "source": [
    "def distance_callback(from_index, to_index):\n",
    "    \"\"\"Returns the distance between the two nodes.\"\"\"\n",
    "    # Convert from routing variable Index to distance matrix NodeIndex.\n",
    "    from_node = manager.IndexToNode(from_index)\n",
    "    to_node = manager.IndexToNode(to_index)\n",
    "    return data['matriz_distancia'][from_node][to_node]\n",
    "\n",
    "transit_callback_index = routing.RegisterTransitCallback(distance_callback)"
   ]
  },
  {
   "cell_type": "markdown",
   "id": "f6fb5e7f-f5e3-4e2b-a110-11d7191fd163",
   "metadata": {},
   "source": [
    "---\n",
    "## Custos dos arcos\n",
    "Ensina o solver a calcular os custos entre os nós"
   ]
  },
  {
   "cell_type": "code",
   "execution_count": 6,
   "id": "5f830981-092e-4be6-998e-e77d81b9f52b",
   "metadata": {},
   "outputs": [],
   "source": [
    "routing.SetArcCostEvaluatorOfAllVehicles(transit_callback_index)"
   ]
  },
  {
   "cell_type": "markdown",
   "id": "1790af6b-4d0d-4876-bdd7-cd90f4f2bd3c",
   "metadata": {},
   "source": [
    "---\n",
    "## Definindo parâmetros"
   ]
  },
  {
   "cell_type": "code",
   "execution_count": 7,
   "id": "a3203001-8442-49e8-b662-0280648ad8ac",
   "metadata": {},
   "outputs": [],
   "source": [
    "search_parameters = pywrapcp.DefaultRoutingSearchParameters()\n",
    "search_parameters.local_search_metaheuristic = (\n",
    "    routing_enums_pb2.LocalSearchMetaheuristic.GUIDED_LOCAL_SEARCH)\n",
    "search_parameters.time_limit.seconds = 30\n",
    "search_parameters.log_search = True"
   ]
  },
  {
   "cell_type": "markdown",
   "id": "2ea7ee0f-0595-4d55-9bed-7e079caeba39",
   "metadata": {},
   "source": [
    "## Definindo o output do solver"
   ]
  },
  {
   "cell_type": "code",
   "execution_count": 8,
   "id": "1c79eb52-ca56-4268-8ec4-00d91b67bbcf",
   "metadata": {},
   "outputs": [],
   "source": [
    "def print_solution(manager, routing, solution):\n",
    "    print('Objetivo: R$ {}'.format(solution.ObjectiveValue()))\n",
    "    index = routing.Start(0)\n",
    "    plan_output = 'Rota :\\n'\n",
    "    route_distance = 0\n",
    "    while not routing.IsEnd(index):\n",
    "        plan_output += ' {} ->'.format(manager.IndexToNode(index))\n",
    "        previous_index = index\n",
    "        index = solution.Value(routing.NextVar(index))\n",
    "        route_distance += routing.GetArcCostForVehicle(previous_index, index, 0)\n",
    "    plan_output += ' {}\\n'.format(manager.IndexToNode(index))\n",
    "    print(plan_output)\n",
    "    plan_output += 'Distância da rota: {} kilometros\\n'.format(route_distance)"
   ]
  },
  {
   "cell_type": "code",
   "execution_count": 9,
   "id": "81154054-77c6-4f69-9bd4-c97c27103276",
   "metadata": {},
   "outputs": [
    {
     "name": "stdout",
     "output_type": "stream",
     "text": [
      "Objetivo: R$ 4421\n",
      "Rota :\n",
      " 0 -> 11 -> 15 -> 5 -> 13 -> 2 -> 7 -> 4 -> 3 -> 14 -> 9 -> 6 -> 1 -> 12 -> 10 -> 8 -> 0\n",
      "\n"
     ]
    }
   ],
   "source": [
    "solution = routing.SolveWithParameters(search_parameters)\n",
    "if solution:\n",
    "    print_solution(manager, routing, solution)"
   ]
  }
 ],
 "metadata": {
  "kernelspec": {
   "display_name": "Python 3 (ipykernel)",
   "language": "python",
   "name": "python3"
  },
  "language_info": {
   "codemirror_mode": {
    "name": "ipython",
    "version": 3
   },
   "file_extension": ".py",
   "mimetype": "text/x-python",
   "name": "python",
   "nbconvert_exporter": "python",
   "pygments_lexer": "ipython3",
   "version": "3.8.11"
  }
 },
 "nbformat": 4,
 "nbformat_minor": 5
}
